{
 "metadata": {
  "name": ""
 },
 "nbformat": 3,
 "nbformat_minor": 0,
 "worksheets": [
  {
   "cells": [
    {
     "cell_type": "markdown",
     "metadata": {
      "slideshow": {
       "slide_type": "slide"
      }
     },
     "source": [
      "#Chef \ub85c \ubb34\uc5c7\uc744 \ud560 \uc218 \uc788\uc744\uae4c (What can I do with the Chef)\n"
     ]
    },
    {
     "cell_type": "code",
     "collapsed": false,
     "input": [
      "sdfsdf"
     ],
     "language": "python",
     "metadata": {},
     "outputs": []
    },
    {
     "cell_type": "markdown",
     "metadata": {
      "slideshow": {
       "slide_type": "slide"
      }
     },
     "source": [
      "#\ub4e4\uc5b4\uac00\uae30 \n",
      "\n",
      "* \ubc1c\ud45c \uc21c\uc11c (Agenda)\n",
      "    * \ubc30\ud3ec\uacfc\uc815\uc758 \uc5b4\ub824\uc6c0\uc774 \ubb34\uc5c7\uc778\uac00? (What is the problem of deployment process?)\n",
      "    * Chef \uc5d0 \ub300\ud55c \uc18c\uac1c (introduction to chef)\n",
      "    * DevOps \ud300\uc740 Chef \ub97c \uc5b4\ub5bb\uac8c \ud65c\uc6a9\ud558\uace0 \uc788\uc744\uae4c? (The way using chef in DevOps team)\n",
      "    * \ub2e4\uc74c\uc5d0 \ucd94\uac00\ub85c \ub17c\uc758 \ud560 \uc8fc\uc81c (next topic)\n",
      "    \n",
      "(\uc774 \ubc1c\ud45c\ub294 Andrii \ub97c \ub530\ub77c ipython notebook \uc744 \uc0ac\uc6a9\ud588\uc2b5\ub2c8\ub2e4. Thanks!)\n",
      "\n",
      "\n"
     ]
    },
    {
     "cell_type": "markdown",
     "metadata": {
      "slideshow": {
       "slide_type": "slide"
      }
     },
     "source": [
      "#\uc5b4\ub5bb\uac8c \ubc30\ud3ec\ub97c \ud558\uace0 \uacc4\uc2e0\uac00\uc694? (How can you deploy your appilcation?)\n",
      "- git\uc73c\ub85c \ubc30\ud3ec\ud574\uc694 (using git)\n",
      "- \uc2a4\ud06c\ub9bd\ud2b8\ub97c \ub9cc\ub4e4\uc5b4\uc11c \ubc30\ud3ec\ud574\uc694 (using my own script)\n",
      "- AWS \uc774\ubbf8\uc9c0\ub97c \ub9cc\ub4e4\uc5b4\uc11c \ubc30\ud3ec\ud574\uc694 (using AWS ami images)\n"
     ]
    },
    {
     "cell_type": "markdown",
     "metadata": {},
     "source": [
      "#\uc5b4\ub5a4 \uc5b4\ub824\uc6c0\uc774 \uc788\uc744\uae4c\uc694?\n",
      "\n",
      "- \ud604\uc7ac \uc0c1\ud0dc\ub294 \uc5b4\ub5a4\uac00?\n",
      "    - \uba87\ub300\uc758 \uc11c\ubc84\uac00 \ub3d9\uc791\ud558\uace0 \uc788\uc9c0? \n",
      "    - \uac01 \uc11c\ubc84\uc5d0\ub294 \uc5b4\ub5a4 \ud328\ud0a4\uc9c0\uac00 \uae54\ub824\uc838 \uc788\uc9c0?\n",
      "    - \uac01 \uc11c\ubc84\uc758 \uc0ac\uc591\uc740 \uc5b4\ub5bb\uac8c \ub420\uae4c?\n",
      "- configuration \uc744 \uc5b4\ub5bb\uac8c \uad00\ub9ac\ud558\ub294 \uac83\uc774 \uc88b\uc744\uae4c?\n",
      "    - region \ub9c8\ub2e4 \uc811\uc18d\ud574\uc57c \ud558\ub294 DB \uc8fc\uc18c\uac00 \ub2e4\ub974\ub2e4\uba74?\n",
      "- \uac1c\ubc1c\ud658\uacbd\uacfc \uc2e4\uc81c \ud658\uacbd\uc740 \uc5b4\ub5bb\uac8c \uad6c\ubd84\ud558\ub294 \uac83\uc774 \uc88b\uc744\uae4c?\n",
      "    - \uac1c\ubc1c\ud658\uacbd\uc740 debug \ub3c4 \ucf1c\ub450\uc5b4\uc57c \ud558\uace0, DB \uc811\uc18d \uc8fc\uc18c\ub3c4 \ub2ec\ub77c\uc57c \ud558\ub294\ub370..\n",
      "    - \uc2e4\uc81c \ud658\uacbd\uc5d0 \uc9c0\uae08 \ud14c\uc2a4\ud2b8 \uc911\uc778 \ubc84\uc83c\uc774 \uc0ac\uc6a9\ub418\uba74 \uc548\ub420\ud150\ub370...\n",
      "- \uc11c\ubc84\ub97c \ucd94\uac00\ud574\uc57c \ud574\uc694!\n",
      "    - \ub3d9\uc791 \ud658\uacbd\uc744 \ucc98\uc74c\ubd80\ud130 \uc124\uce58\ud574\uc57c \ud558\ub098?\n",
      "    - \uc774\ubbf8\uc9c0\ub97c \ub5a0 \ub450\uc5c8\ub2e4\uba74, \uc774\ubbf8\uc9c0\ub97c \ub5a0\ub454 \uc774\ud6c4 \ubd80\ud130\uc758 \ubcc0\uacbd \uc0ac\ud56d\ub4e4\uc744 \ubaa8\ub450 \ubc18\uc601\ud574\uc57c \ud560\ud150\ub370.\n",
      "- \uc62c\uc778\uc6d0\uc73c\ub85c \uc124\uce58\ud574 \uc8fc\uc138\uc694!\n",
      "    - \uc5b4\ub5a4 \ud658\uacbd\uc5d0\uc11c\ub294 DB, \uc6f9\uc11c\ubc84\ub97c \uac19\uc774 \uc124\uce58\ud574\uc57c \ud558\uace0, \uc5b4\ub5a0 \uacf3\uc5d0\uc11c\ub294 \ub530\ub85c \uc124\uce58\uac00 \ud544\uc694\ud574\uc694. \n",
      "    "
     ]
    },
    {
     "cell_type": "markdown",
     "metadata": {
      "slideshow": {
       "slide_type": "slide"
      }
     },
     "source": [
      "#Chef?\n",
      "\n",
      "- Programming your IT infrastructure \n"
     ]
    },
    {
     "cell_type": "markdown",
     "metadata": {
      "slideshow": {
       "slide_type": "slide"
      }
     },
     "source": [
      "#Why Chef?"
     ]
    },
    {
     "cell_type": "markdown",
     "metadata": {},
     "source": [
      "next slide"
     ]
    },
    {
     "cell_type": "code",
     "collapsed": false,
     "input": [
      "!knife status \"region:SD04\""
     ],
     "language": "python",
     "metadata": {},
     "outputs": [
      {
       "output_type": "stream",
       "stream": "stdout",
       "text": [
        "\u001b[31m696 hours\u001b[0m ago, sdk-mongodb-a014-007af705-sd04, ec2-54-238-176-188.ap-northeast-1.compute.amazonaws.com, 54.238.176.188, ubuntu 12.04.\r\n",
        "\u001b[31m696 hours\u001b[0m ago, sdk-mongodb-a014-c14a3fc4-sd04, ec2-54-238-179-45.ap-northeast-1.compute.amazonaws.com, 54.238.179.45, ubuntu 12.04.\r\n",
        "\u001b[31m696 hours\u001b[0m ago, sdk-mongodb-a014-11fae514-sd04, ec2-54-238-178-6.ap-northeast-1.compute.amazonaws.com, 54.238.178.6, ubuntu 12.04.\r\n",
        "\u001b[31m673 hours\u001b[0m ago, sdk-featproxy-a014-ee6bf7e9-sd04, ec2-54-199-197-197.ap-northeast-1.compute.amazonaws.com, 54.199.197.197, ubuntu 12.04.\r\n",
        "\u001b[31m313 hours\u001b[0m ago, sdk-ira-a014-b8feeabe-sd04, ec2-54-248-251-163.ap-northeast-1.compute.amazonaws.com, 54.248.251.163, ubuntu 12.04.\r\n",
        "\u001b[31m191 hours\u001b[0m ago, sdk-extractor-a014-df2bcedb-sd04, ec2-54-238-191-122.ap-northeast-1.compute.amazonaws.com, 54.238.191.122, ubuntu 12.04.\r\n",
        "\u001b[31m190 hours\u001b[0m ago, sdk-rest-a014-d82bcedc-sd04, ec2-54-238-222-62.ap-northeast-1.compute.amazonaws.com, 54.238.222.62, ubuntu 12.04.\r\n",
        "\u001b[31m165 hours\u001b[0m ago, sdk-scribe-a014-447af741-sd04, ec2-54-249-124-145.ap-northeast-1.compute.amazonaws.com, 54.249.124.145, ubuntu 12.04.\r\n"
       ]
      }
     ],
     "prompt_number": 6
    },
    {
     "cell_type": "markdown",
     "metadata": {
      "slideshow": {
       "slide_type": "slide"
      }
     },
     "source": []
    },
    {
     "cell_type": "markdown",
     "metadata": {
      "slideshow": {
       "slide_type": "slide"
      }
     },
     "source": []
    }
   ],
   "metadata": {}
  }
 ]
}